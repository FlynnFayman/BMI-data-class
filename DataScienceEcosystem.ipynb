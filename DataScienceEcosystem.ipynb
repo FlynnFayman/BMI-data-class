{
 "cells": [
  {
   "cell_type": "markdown",
   "id": "730642f8",
   "metadata": {},
   "source": [
    "# Data Science Tools and Ecosystem"
   ]
  },
  {
   "cell_type": "markdown",
   "id": "4ffc1e4e",
   "metadata": {},
   "source": [
    "In this notebook, Data Science Tools and Ecosystem are summarized."
   ]
  },
  {
   "cell_type": "markdown",
   "id": "79f4d79b",
   "metadata": {},
   "source": [
    "__Objectives:__\n",
    "   - List popular languages for Data Science\n",
    "   - List Commonly used Libaries used by Data Scientists\n",
    "   - Make a table of Data Science Tools\n",
    "   - execute simple arithmetic expressions in Python\n",
    "   - Convert minutes to hours in python"
   ]
  },
  {
   "cell_type": "markdown",
   "id": "0204f36c",
   "metadata": {},
   "source": [
    "Some of the popular languages that Data Scientists use are:"
   ]
  },
  {
   "cell_type": "markdown",
   "id": "ef7c5497",
   "metadata": {},
   "source": [
    "1. Python\n",
    "\n",
    "2. R\n",
    "\n",
    "3. C++\n",
    "\n",
    "4. Java"
   ]
  },
  {
   "cell_type": "markdown",
   "id": "0cef67d5",
   "metadata": {},
   "source": [
    "Some of the commonly used libraries used by Data Scientists include:"
   ]
  },
  {
   "cell_type": "markdown",
   "id": "684a4395",
   "metadata": {},
   "source": [
    "1. Tensor Flow\n",
    "\n",
    "2. Pandas\n",
    "\n",
    "3. ggplot\n",
    "\n",
    "4. numpy"
   ]
  },
  {
   "cell_type": "markdown",
   "id": "f4aa4cb9",
   "metadata": {},
   "source": [
    "|Data Science Tools|\n",
    "|------------------|\n",
    "|Jupyter Labs|\n",
    "|Apache zeppelin|\n",
    "|R Studio’s|"
   ]
  },
  {
   "cell_type": "markdown",
   "id": "3a6e0cf7",
   "metadata": {},
   "source": [
    "### Below are a few examples of evaluating arithmetic expressions in Python"
   ]
  },
  {
   "cell_type": "code",
   "execution_count": 1,
   "id": "953cf043",
   "metadata": {},
   "outputs": [
    {
     "data": {
      "text/plain": [
       "17"
      ]
     },
     "execution_count": 1,
     "metadata": {},
     "output_type": "execute_result"
    }
   ],
   "source": [
    "#  This a simple arithmetic expression to mutiply then add integers\n",
    "(3*4)+5\n"
   ]
  },
  {
   "cell_type": "code",
   "execution_count": 2,
   "id": "dd6809e4",
   "metadata": {},
   "outputs": [
    {
     "data": {
      "text/plain": [
       "3.3333333333333335"
      ]
     },
     "execution_count": 2,
     "metadata": {},
     "output_type": "execute_result"
    }
   ],
   "source": [
    "# This will convert 200 minutes to hours by diving by 60\n",
    "(200/60)"
   ]
  },
  {
   "cell_type": "markdown",
   "id": "18b09972",
   "metadata": {},
   "source": [
    "## Author\n",
    " Flynn Fayman"
   ]
  },
  {
   "cell_type": "code",
   "execution_count": null,
   "id": "bc573f46",
   "metadata": {},
   "outputs": [],
   "source": []
  }
 ],
 "metadata": {
  "kernelspec": {
   "display_name": "Python 3 (ipykernel)",
   "language": "python",
   "name": "python3"
  },
  "language_info": {
   "codemirror_mode": {
    "name": "ipython",
    "version": 3
   },
   "file_extension": ".py",
   "mimetype": "text/x-python",
   "name": "python",
   "nbconvert_exporter": "python",
   "pygments_lexer": "ipython3",
   "version": "3.10.9"
  }
 },
 "nbformat": 4,
 "nbformat_minor": 5
}
